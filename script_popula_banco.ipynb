{
 "cells": [
  {
   "metadata": {},
   "cell_type": "markdown",
   "source": "",
   "id": "ce0a9ed6c16be407"
  },
  {
   "metadata": {
    "ExecuteTime": {
     "end_time": "2024-12-03T02:17:20.916066Z",
     "start_time": "2024-12-03T02:17:20.893525Z"
    }
   },
   "cell_type": "code",
   "source": [
    "import pandas as pd\n",
    "import mysql.connector\n",
    "from sqlalchemy import create_engine"
   ],
   "id": "2b0ef41a9dbd82f9",
   "outputs": [],
   "execution_count": 72
  },
  {
   "metadata": {},
   "cell_type": "markdown",
   "source": "#### Caminho para arquivos csv",
   "id": "dbf1f16dab70795a"
  },
  {
   "metadata": {
    "ExecuteTime": {
     "end_time": "2024-12-03T02:17:20.936390Z",
     "start_time": "2024-12-03T02:17:20.926544Z"
    }
   },
   "cell_type": "code",
   "source": [
    "usuario_file = 'data_files/USUARIO.csv'\n",
    "localizacao_file = 'data_files/LOCALIZACAO.csv'\n",
    "perfil_file = 'data_files/PERFIL_USUARIO.csv'\n",
    "conexao_file = 'data_files/CONEXAO.csv'\n",
    "interesse_file = 'data_files/INTERESSE.csv'\n",
    "perfil_interesse_file = 'data_files/PERFIL_INTERESSE.csv'\n",
    "postagem_file = 'data_files/POSTAGEM.csv'\n",
    "postagem_perfil_file = 'data_files/POSTAGEM_PERFIL.csv'\n",
    "grupo_file = 'data_files/GRUPO.csv'\n",
    "postagem_grupo_file = 'data_files/POSTAGEM_GRUPO.csv'\n",
    "midias_file = 'data_files/MIDIA.csv'\n",
    "curtidas_file = 'data_files/CURTIDA.csv'\n",
    "comentario_file = 'data_files/COMENTARIO.csv'\n",
    "mensagem_individual_file = 'data_files/MENSAGEM_INDIVIDUAL.csv'\n",
    "mensagem_grupo_file = 'data_files/MENSAGEM_GRUPO.csv'"
   ],
   "id": "4a844e3ac39c357f",
   "outputs": [],
   "execution_count": 73
  },
  {
   "metadata": {
    "ExecuteTime": {
     "end_time": "2024-12-03T02:17:20.994386Z",
     "start_time": "2024-12-03T02:17:20.985008Z"
    }
   },
   "cell_type": "code",
   "source": [
    "# Configurações do banco de dados MySQL\n",
    "db_config = {\n",
    "    \"host\": \"localhost\",\n",
    "    \"user\": \"root\",  # Substitua pelo seu usuário\n",
    "    \"password\": \"Senha1234.\",  # Substitua pela sua senha\n",
    "    \"database\": \"connectme\",  # Certifique-se de criar este banco antes de executar\n",
    "}\n",
    "\n",
    "# Criar a conexão do SQLAlchemy\n",
    "db_url = f\"mysql+mysqlconnector://{db_config['user']}:{db_config['password']}@{db_config['host']}/{db_config['database']}\"\n",
    "engine = create_engine(db_url)\n"
   ],
   "id": "ea8f993b09cb2ad7",
   "outputs": [],
   "execution_count": 74
  },
  {
   "metadata": {},
   "cell_type": "markdown",
   "source": "#### Inserindo Usuarios no banco",
   "id": "1ca651063ad617c9"
  },
  {
   "metadata": {
    "ExecuteTime": {
     "end_time": "2024-12-03T02:17:21.113586Z",
     "start_time": "2024-12-03T02:17:21.012038Z"
    }
   },
   "cell_type": "code",
   "source": [
    "usuario = pd.read_csv(usuario_file)\n",
    "usuario.to_sql('usuario', con=engine, if_exists='append', index=False)"
   ],
   "id": "5f077f90ce03ed66",
   "outputs": [
    {
     "data": {
      "text/plain": [
       "1500"
      ]
     },
     "execution_count": 75,
     "metadata": {},
     "output_type": "execute_result"
    }
   ],
   "execution_count": 75
  },
  {
   "metadata": {},
   "cell_type": "markdown",
   "source": "#### Inserindo Localizacao do Banco",
   "id": "95586dd8d482a783"
  },
  {
   "metadata": {
    "ExecuteTime": {
     "end_time": "2024-12-03T02:17:21.177485Z",
     "start_time": "2024-12-03T02:17:21.131875Z"
    }
   },
   "cell_type": "code",
   "source": [
    "localizacao = pd.read_csv(localizacao_file)\n",
    "localizacao.to_sql('localizacao', con=engine, if_exists='append', index=False)"
   ],
   "id": "51dcad3151963969",
   "outputs": [
    {
     "data": {
      "text/plain": [
       "1500"
      ]
     },
     "execution_count": 76,
     "metadata": {},
     "output_type": "execute_result"
    }
   ],
   "execution_count": 76
  },
  {
   "metadata": {},
   "cell_type": "markdown",
   "source": "#### Inserindo Perfis de Usuario no Banco",
   "id": "eb354179e4a6ada5"
  },
  {
   "metadata": {
    "ExecuteTime": {
     "end_time": "2024-12-03T02:17:21.266847Z",
     "start_time": "2024-12-03T02:17:21.195909Z"
    }
   },
   "cell_type": "code",
   "source": [
    "perfil = pd.read_csv(perfil_file)\n",
    "perfil.to_sql('perfil_usuario', con=engine, if_exists='append', index=False)"
   ],
   "id": "eeb8a05912230b3e",
   "outputs": [
    {
     "data": {
      "text/plain": [
       "1500"
      ]
     },
     "execution_count": 77,
     "metadata": {},
     "output_type": "execute_result"
    }
   ],
   "execution_count": 77
  },
  {
   "metadata": {},
   "cell_type": "markdown",
   "source": "#### Inserindo Conexoes entre os Perfis",
   "id": "c509b17023c6cba6"
  },
  {
   "metadata": {
    "ExecuteTime": {
     "end_time": "2024-12-03T02:17:21.961109Z",
     "start_time": "2024-12-03T02:17:21.283826Z"
    }
   },
   "cell_type": "code",
   "source": [
    "conexao = pd.read_csv(conexao_file)\n",
    "conexao.to_sql('conexao', con=engine, if_exists='append', index=False)"
   ],
   "id": "5f4c3f3a819146a9",
   "outputs": [
    {
     "data": {
      "text/plain": [
       "22500"
      ]
     },
     "execution_count": 78,
     "metadata": {},
     "output_type": "execute_result"
    }
   ],
   "execution_count": 78
  },
  {
   "metadata": {},
   "cell_type": "markdown",
   "source": "#### Inserindo Interesses no Banco",
   "id": "6ad7bdb27f70ef5c"
  },
  {
   "metadata": {
    "ExecuteTime": {
     "end_time": "2024-12-03T02:17:21.987689Z",
     "start_time": "2024-12-03T02:17:21.977170Z"
    }
   },
   "cell_type": "code",
   "source": [
    "interesse_file = pd.read_csv(interesse_file)\n",
    "interesse_file.to_sql('interesse', con=engine, if_exists='append', index=False)"
   ],
   "id": "f14977a221715825",
   "outputs": [
    {
     "data": {
      "text/plain": [
       "100"
      ]
     },
     "execution_count": 79,
     "metadata": {},
     "output_type": "execute_result"
    }
   ],
   "execution_count": 79
  },
  {
   "metadata": {},
   "cell_type": "markdown",
   "source": "#### Inserindo Perfil Interesse no Banco",
   "id": "bc72ab1870119277"
  },
  {
   "metadata": {
    "ExecuteTime": {
     "end_time": "2024-12-03T02:17:22.037273Z",
     "start_time": "2024-12-03T02:17:22.005035Z"
    }
   },
   "cell_type": "code",
   "source": [
    "perfil_interesse = pd.read_csv(perfil_interesse_file)\n",
    "perfil_interesse.to_sql('perfil_interesse', con=engine, if_exists='append', index=False)"
   ],
   "id": "7e0c197983d8352e",
   "outputs": [
    {
     "data": {
      "text/plain": [
       "1495"
      ]
     },
     "execution_count": 80,
     "metadata": {},
     "output_type": "execute_result"
    }
   ],
   "execution_count": 80
  },
  {
   "metadata": {},
   "cell_type": "markdown",
   "source": "#### Inserindo Postagens no Banco",
   "id": "471a358e5585e6b3"
  },
  {
   "metadata": {
    "ExecuteTime": {
     "end_time": "2024-12-03T02:17:22.130884Z",
     "start_time": "2024-12-03T02:17:22.053347Z"
    }
   },
   "cell_type": "code",
   "source": [
    "postagem = pd.read_csv(postagem_file)\n",
    "postagem.to_sql('postagem', con=engine, if_exists='append', index=False)"
   ],
   "id": "cb0b7617a0295c26",
   "outputs": [
    {
     "data": {
      "text/plain": [
       "3000"
      ]
     },
     "execution_count": 81,
     "metadata": {},
     "output_type": "execute_result"
    }
   ],
   "execution_count": 81
  },
  {
   "metadata": {},
   "cell_type": "markdown",
   "source": "#### Inserindo Postagens de Perfil no Banco",
   "id": "6faffeead5829600"
  },
  {
   "metadata": {
    "ExecuteTime": {
     "end_time": "2024-12-03T02:17:22.184625Z",
     "start_time": "2024-12-03T02:17:22.149261Z"
    }
   },
   "cell_type": "code",
   "source": [
    "postagem_perfil = pd.read_csv(postagem_perfil_file)\n",
    "postagem_perfil.to_sql('postagem_perfil', con=engine, if_exists='append', index=False)"
   ],
   "id": "561f5b540a4523ff",
   "outputs": [
    {
     "data": {
      "text/plain": [
       "2000"
      ]
     },
     "execution_count": 82,
     "metadata": {},
     "output_type": "execute_result"
    }
   ],
   "execution_count": 82
  },
  {
   "metadata": {},
   "cell_type": "markdown",
   "source": "#### Inserindo Grupos no Banco",
   "id": "e0824bbb670962f4"
  },
  {
   "metadata": {
    "ExecuteTime": {
     "end_time": "2024-12-03T02:17:22.216066Z",
     "start_time": "2024-12-03T02:17:22.200699Z"
    }
   },
   "cell_type": "code",
   "source": [
    "grupo = pd.read_csv(grupo_file)\n",
    "grupo.to_sql('grupo', con=engine, if_exists='append', index=False)"
   ],
   "id": "4ca8d6a134082ed1",
   "outputs": [
    {
     "data": {
      "text/plain": [
       "200"
      ]
     },
     "execution_count": 83,
     "metadata": {},
     "output_type": "execute_result"
    }
   ],
   "execution_count": 83
  },
  {
   "metadata": {},
   "cell_type": "markdown",
   "source": "#### Inserindo Postagens de Grupo no banco",
   "id": "b70377439e31d138"
  },
  {
   "metadata": {
    "ExecuteTime": {
     "end_time": "2024-12-03T02:17:22.270618Z",
     "start_time": "2024-12-03T02:17:22.232068Z"
    }
   },
   "cell_type": "code",
   "source": [
    "postagem_grupo = pd.read_csv(postagem_grupo_file)\n",
    "postagem_grupo.to_sql('postagem_grupo', con=engine, if_exists='append', index=False)"
   ],
   "id": "c6d721cbe597a347",
   "outputs": [
    {
     "data": {
      "text/plain": [
       "1500"
      ]
     },
     "execution_count": 84,
     "metadata": {},
     "output_type": "execute_result"
    }
   ],
   "execution_count": 84
  },
  {
   "metadata": {},
   "cell_type": "markdown",
   "source": "#### Inserindo Midias no banco",
   "id": "2340ca935f5e5b7b"
  },
  {
   "metadata": {
    "ExecuteTime": {
     "end_time": "2024-12-03T02:17:22.338968Z",
     "start_time": "2024-12-03T02:17:22.286533Z"
    }
   },
   "cell_type": "code",
   "source": [
    "midia = pd.read_csv(midias_file)\n",
    "midia.to_sql('midia', con=engine, if_exists='append', index=False)"
   ],
   "id": "813d498a59713ae1",
   "outputs": [
    {
     "data": {
      "text/plain": [
       "2500"
      ]
     },
     "execution_count": 85,
     "metadata": {},
     "output_type": "execute_result"
    }
   ],
   "execution_count": 85
  },
  {
   "metadata": {},
   "cell_type": "markdown",
   "source": "#### Inserindo Curtidas no Banco",
   "id": "57ab7fda77bf8969"
  },
  {
   "metadata": {
    "ExecuteTime": {
     "end_time": "2024-12-03T02:17:22.409998Z",
     "start_time": "2024-12-03T02:17:22.357737Z"
    }
   },
   "cell_type": "code",
   "source": [
    "curtida = pd.read_csv(curtidas_file)\n",
    "curtida.to_sql('curtida', con=engine, if_exists='append', index=False)"
   ],
   "id": "f80c94a61fd2e44f",
   "outputs": [
    {
     "data": {
      "text/plain": [
       "2000"
      ]
     },
     "execution_count": 86,
     "metadata": {},
     "output_type": "execute_result"
    }
   ],
   "execution_count": 86
  },
  {
   "metadata": {},
   "cell_type": "markdown",
   "source": "#### Inserindo Comentarios no banco",
   "id": "bcf453b882b5e05c"
  },
  {
   "metadata": {
    "ExecuteTime": {
     "end_time": "2024-12-03T02:17:22.467370Z",
     "start_time": "2024-12-03T02:17:22.426962Z"
    }
   },
   "cell_type": "code",
   "source": [
    "comentario = pd.read_csv(comentario_file)\n",
    "comentario.to_sql('comentario', con=engine, if_exists='append', index=False)"
   ],
   "id": "9afc14a1daf659d7",
   "outputs": [
    {
     "data": {
      "text/plain": [
       "1000"
      ]
     },
     "execution_count": 87,
     "metadata": {},
     "output_type": "execute_result"
    }
   ],
   "execution_count": 87
  },
  {
   "metadata": {},
   "cell_type": "markdown",
   "source": "#### Inserindo Mensagens Individuais no Banco",
   "id": "cb96489fb77c813"
  },
  {
   "metadata": {
    "ExecuteTime": {
     "end_time": "2024-12-03T02:17:22.698853Z",
     "start_time": "2024-12-03T02:17:22.484828Z"
    }
   },
   "cell_type": "code",
   "source": [
    "mensagem_individual = pd.read_csv(mensagem_individual_file)\n",
    "mensagem_individual.to_sql('mensagem_individual', con=engine, if_exists='append', index=False)"
   ],
   "id": "50c2a5adb19fc68c",
   "outputs": [
    {
     "data": {
      "text/plain": [
       "5000"
      ]
     },
     "execution_count": 88,
     "metadata": {},
     "output_type": "execute_result"
    }
   ],
   "execution_count": 88
  },
  {
   "metadata": {},
   "cell_type": "markdown",
   "source": "#### Inserindo Mensagens em Grupo no Banco",
   "id": "bc0adf8e60cd8b62"
  },
  {
   "metadata": {
    "ExecuteTime": {
     "end_time": "2024-12-03T02:17:22.992078Z",
     "start_time": "2024-12-03T02:17:22.715700Z"
    }
   },
   "cell_type": "code",
   "source": [
    "mensagem_grupo = pd.read_csv(mensagem_grupo_file)\n",
    "mensagem_grupo.to_sql('mensagem_grupo', con=engine, if_exists='append', index=False)"
   ],
   "id": "be1b68e4e32ee03c",
   "outputs": [
    {
     "data": {
      "text/plain": [
       "6000"
      ]
     },
     "execution_count": 89,
     "metadata": {},
     "output_type": "execute_result"
    }
   ],
   "execution_count": 89
  }
 ],
 "metadata": {
  "kernelspec": {
   "display_name": "Python 3",
   "language": "python",
   "name": "python3"
  },
  "language_info": {
   "codemirror_mode": {
    "name": "ipython",
    "version": 2
   },
   "file_extension": ".py",
   "mimetype": "text/x-python",
   "name": "python",
   "nbconvert_exporter": "python",
   "pygments_lexer": "ipython2",
   "version": "2.7.6"
  }
 },
 "nbformat": 4,
 "nbformat_minor": 5
}
